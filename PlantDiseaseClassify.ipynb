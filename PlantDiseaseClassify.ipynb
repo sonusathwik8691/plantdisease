
{
 "cells": [
  {
   "cell_type": "code",
   "execution_count": 4,
   "metadata": {},
   "outputs": [],
   "source": [
    "import tensorflow as tf\n",
    "from keras.preprocessing.image import ImageDataGenerator"
   ]
  },
  {
   "cell_type": "code",
   "execution_count": 5,
   "metadata": {},
   "outputs": [
    {
     "name": "stdout",
     "output_type": "stream",
     "text": [
      "Found 20638 images belonging to 15 classes.\n"
     ]
    }
   ],
   "source": [
    "train_datagen = ImageDataGenerator(rescale = 1./255,\n",
    "                                   shear_range = 0.2,\n",
    "                                   zoom_range = 0.2,\n",
    "                                   horizontal_flip = True)\n",
    "training_set = train_datagen.flow_from_directory('others/trainset',\n",
    "                                                 target_size = (64,64),\n",
    "                                                 batch_size = 32,\n",
    "                                                 class_mode = 'categorical')"
   ]
  },
  {
   "cell_type": "code",
   "execution_count": 6,
   "metadata": {},
   "outputs": [
    {
     "name": "stdout",
     "output_type": "stream",
     "text": [
      "Found 1422 images belonging to 15 classes.\n"
     ]
    }
   ],
   "source": [
    "test_datagen = ImageDataGenerator(rescale = 1./255)\n",
    "test_set = test_datagen.flow_from_directory('others/testset',\n",
    "                                            target_size = (64, 64),\n",
    "                                            batch_size = 32,\n",
    "                                            class_mode = 'categorical')"
   ]
  },
  {
   "cell_type": "code",
   "execution_count": 7,
   "metadata": {},
   "outputs": [],
   "source": [
    "cnn = tf.keras.models.Sequential()"
   ]
  },
  {
   "cell_type": "code",
   "execution_count": 8,
   "metadata": {},
   "outputs": [],
   "source": [
    "cnn.add(tf.keras.layers.Conv2D(filters=32, kernel_size=3, activation='relu'))\n",
    "cnn.add(tf.keras.layers.MaxPool2D(pool_size=2, strides=2))"
   ]
  },
  {
   "cell_type": "code",
   "execution_count": 9,
   "metadata": {},
   "outputs": [],
   "source": [
    "cnn.add(tf.keras.layers.Conv2D(filters=32, kernel_size=3, activation='relu'))\n",
    "cnn.add(tf.keras.layers.MaxPool2D(pool_size=2, strides=2))"
   ]
  },
  {
   "cell_type": "code",
   "execution_count": 10,
   "metadata": {},
   "outputs": [],
   "source": [
    "cnn.add(tf.keras.layers.Flatten())"
   ]
  },
  {
   "cell_type": "code",
   "execution_count": 11,
   "metadata": {},
   "outputs": [],
   "source": [
    "cnn.add(tf.keras.layers.Dense(units=128, activation='relu'))\n",
    "cnn.add(tf.keras.layers.Dropout(0.25))"
   ]
  },
  {
   "cell_type": "code",
   "execution_count": 12,
   "metadata": {},
   "outputs": [],
   "source": [
    "cnn.add(tf.keras.layers.Dense(units=15, activation='softmax'))"
   ]
  },
  {
   "cell_type": "code",
   "execution_count": 13,
   "metadata": {},
   "outputs": [],
   "source": [
    "cnn.compile(optimizer = 'adam', loss = 'categorical_crossentropy', metrics = ['accuracy'])\n"
   ]
  },
  {
   "cell_type": "code",
   "execution_count": 14,
   "metadata": {},
   "outputs": [
    {
     "name": "stdout",
     "output_type": "stream",
     "text": [
      "Epoch 1/25\n",
      "645/645 [==============================] - 164s 254ms/step - loss: 1.4418 - accuracy: 0.5361 - val_loss: 1.2064 - val_accuracy: 0.6287\n",
      "Epoch 2/25\n",
      "645/645 [==============================] - 147s 228ms/step - loss: 0.8319 - accuracy: 0.7253 - val_loss: 0.7126 - val_accuracy: 0.7511\n",
      "Epoch 3/25\n",
      "645/645 [==============================] - 160s 248ms/step - loss: 0.6675 - accuracy: 0.7722 - val_loss: 0.6233 - val_accuracy: 0.7989\n",
      "Epoch 4/25\n",
      "645/645 [==============================] - 146s 226ms/step - loss: 0.5969 - accuracy: 0.7955 - val_loss: 0.4653 - val_accuracy: 0.8277\n",
      "Epoch 5/25\n",
      "645/645 [==============================] - 144s 224ms/step - loss: 0.5198 - accuracy: 0.8236 - val_loss: 0.7522 - val_accuracy: 0.7482\n",
      "Epoch 6/25\n",
      "645/645 [==============================] - 157s 243ms/step - loss: 0.4795 - accuracy: 0.8358 - val_loss: 0.4076 - val_accuracy: 0.8488\n",
      "Epoch 7/25\n",
      "645/645 [==============================] - 157s 244ms/step - loss: 0.4430 - accuracy: 0.8485 - val_loss: 0.5511 - val_accuracy: 0.8080\n",
      "Epoch 8/25\n",
      "645/645 [==============================] - 158s 245ms/step - loss: 0.4209 - accuracy: 0.8560 - val_loss: 0.3535 - val_accuracy: 0.8868\n",
      "Epoch 9/25\n",
      "645/645 [==============================] - 137s 212ms/step - loss: 0.3984 - accuracy: 0.8660 - val_loss: 0.6288 - val_accuracy: 0.7989\n",
      "Epoch 10/25\n",
      "645/645 [==============================] - 88s 137ms/step - loss: 0.3775 - accuracy: 0.8702 - val_loss: 0.3198 - val_accuracy: 0.8875\n",
      "Epoch 11/25\n",
      "645/645 [==============================] - 84s 131ms/step - loss: 0.3479 - accuracy: 0.8802 - val_loss: 1.0264 - val_accuracy: 0.7300\n",
      "Epoch 12/25\n",
      "645/645 [==============================] - 83s 128ms/step - loss: 0.3473 - accuracy: 0.8793 - val_loss: 0.2260 - val_accuracy: 0.9177\n",
      "Epoch 13/25\n",
      "645/645 [==============================] - 90s 139ms/step - loss: 0.3330 - accuracy: 0.8857 - val_loss: 0.1847 - val_accuracy: 0.9374\n",
      "Epoch 14/25\n",
      "645/645 [==============================] - 86s 133ms/step - loss: 0.3104 - accuracy: 0.8932 - val_loss: 0.2263 - val_accuracy: 0.9297\n",
      "Epoch 15/25\n",
      "645/645 [==============================] - 87s 135ms/step - loss: 0.2949 - accuracy: 0.8980 - val_loss: 0.2866 - val_accuracy: 0.9065\n",
      "Epoch 16/25\n",
      "645/645 [==============================] - 88s 137ms/step - loss: 0.3055 - accuracy: 0.8957 - val_loss: 0.1617 - val_accuracy: 0.9473\n",
      "Epoch 17/25\n",
      "645/645 [==============================] - 86s 134ms/step - loss: 0.2814 - accuracy: 0.9038 - val_loss: 0.3696 - val_accuracy: 0.8734\n",
      "Epoch 18/25\n",
      "645/645 [==============================] - 89s 138ms/step - loss: 0.2654 - accuracy: 0.9073 - val_loss: 0.2093 - val_accuracy: 0.9269\n",
      "Epoch 19/25\n",
      "645/645 [==============================] - 87s 135ms/step - loss: 0.2648 - accuracy: 0.9114 - val_loss: 0.1428 - val_accuracy: 0.9487\n",
      "Epoch 20/25\n",
      "645/645 [==============================] - 89s 138ms/step - loss: 0.2585 - accuracy: 0.9114 - val_loss: 0.1715 - val_accuracy: 0.9480\n",
      "Epoch 21/25\n",
      "645/645 [==============================] - 84s 131ms/step - loss: 0.2473 - accuracy: 0.9170 - val_loss: 0.1509 - val_accuracy: 0.9451\n",
      "Epoch 22/25\n",
      "645/645 [==============================] - 92s 143ms/step - loss: 0.2378 - accuracy: 0.9182 - val_loss: 0.1296 - val_accuracy: 0.9508\n",
      "Epoch 23/25\n",
      "645/645 [==============================] - 88s 137ms/step - loss: 0.2324 - accuracy: 0.9206 - val_loss: 0.1529 - val_accuracy: 0.9437\n",
      "Epoch 24/25\n",
      "645/645 [==============================] - 91s 141ms/step - loss: 0.2318 - accuracy: 0.9188 - val_loss: 0.1548 - val_accuracy: 0.9487\n",
      "Epoch 25/25\n",
      "645/645 [==============================] - 91s 142ms/step - loss: 0.2253 - accuracy: 0.9217 - val_loss: 0.2236 - val_accuracy: 0.9198\n"
     ]
    },
    {
     "data": {
      "text/plain": [
       "<tensorflow.python.keras.callbacks.History at 0x1a9d72b7130>"
      ]
     },
     "execution_count": 14,
     "metadata": {},
     "output_type": "execute_result"
    }
   ],
   "source": [
    "cnn.fit(x = training_set, validation_data = test_set, epochs = 25)"
   ]
  },
  {
   "cell_type": "code",
   "execution_count": 22,
   "metadata": {},
   "outputs": [
    {
     "name": "stdout",
     "output_type": "stream",
     "text": [
      "[[0. 0. 1. 0. 0. 0. 0. 0. 0. 0. 0. 0. 0. 0. 0.]]\n",
      "Potato___Early_blight\n"
     ]
    }
   ],
   "source": [
    "import numpy as np\n",
    "from keras.preprocessing import image\n",
    "test_image = image.load_img('others/evalset/po_ea_bl.jpg', target_size = (64, 64))\n",
    "test_image = image.img_to_array(test_image)\n",
    "test_image = np.expand_dims(test_image, axis = 0)\n",
    "result = cnn.predict(test_image)\n",
    "training_set.class_indices\n",
    "print(result)\n",
    "if result[0][0] == 1:\n",
    "  prediction = 'Pepper__bell___Bacterial_spot'\n",
    "elif result[0][1] == 1:\n",
    "  prediction = 'Pepper__bell___healthy' \n",
    "elif result[0][2] == 1:\n",
    "  prediction = 'Potato___Early_blight' \n",
    "elif result[0][3] == 1:\n",
    "  prediction = 'Potato___healthy' \n",
    "elif result[0][4] == 1:\n",
    "  prediction = 'Potato___Late_blight' \n",
    "elif result[0][5] == 1:\n",
    "  prediction = 'Tomato__Target_Spot' \n",
    "elif result[0][6] == 1:\n",
    "  prediction = 'Tomato__Tomato_mosaic_virus' \n",
    "elif result[0][7] == 1:\n",
    "  prediction = 'Tomato__Tomato_YellowLeaf__Curl_Virus' \n",
    "elif result[0][8] == 1:\n",
    "  prediction = 'Tomato_Bacterial_spot' \n",
    "elif result[0][9] == 1:\n",
    "  prediction = 'Tomato_Early_blight' \n",
    "elif result[0][10] == 1:\n",
    "  prediction = 'Tomato_healthy' \n",
    "elif result[0][11] == 1:\n",
    "  prediction = 'Tomato_Late_blight' \n",
    "elif result[0][12] == 1:\n",
    "  prediction = 'Tomato_Leaf_Mold' \n",
    "elif result[0][13] == 1:\n",
    "  prediction = 'Tomato_Septoria_leaf_spot' \n",
    "elif result[0][14] == 1:\n",
    "  prediction = 'Tomato_Spider_mites_Two_spotted_spider_mite' \n",
    "print(prediction)\n"
   ]
  },
  {
   "cell_type": "code",
   "execution_count": null,
   "metadata": {},
   "outputs": [],
   "source": []
  }
 ],
 "metadata": {
  "kernelspec": {
   "display_name": "Python 3",
   "language": "python",
   "name": "python3"
  },
  "language_info": {
   "codemirror_mode": {
    "name": "ipython",
    "version": 3
   },
   "file_extension": ".py",
   "mimetype": "text/x-python",
   "name": "python",
   "nbconvert_exporter": "python",
   "pygments_lexer": "ipython3",
   "version": "3.7.6"
  }
 },
 "nbformat": 4,
 "nbformat_minor": 4
}
